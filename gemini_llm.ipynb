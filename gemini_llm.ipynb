{
 "cells": [
  {
   "cell_type": "code",
   "execution_count": 22,
   "id": "18420033",
   "metadata": {},
   "outputs": [
    {
     "data": {
      "text/plain": [
       "True"
      ]
     },
     "execution_count": 22,
     "metadata": {},
     "output_type": "execute_result"
    }
   ],
   "source": [
    "#import \n",
    "\n",
    "from langchain_google_genai.chat_models import ChatGoogleGenerativeAI\n",
    "from dotenv import load_dotenv\n",
    "load_dotenv()"
   ]
  },
  {
   "cell_type": "code",
   "execution_count": 23,
   "id": "8b863dbb",
   "metadata": {},
   "outputs": [],
   "source": [
    "import os \n",
    "llm = ChatGoogleGenerativeAI(\n",
    "    model=\"gemini-2.0-flash-001\",\n",
    "    google_api_key = os.getenv(\"GEMINI_API_KEY\")\n",
    ")"
   ]
  },
  {
   "cell_type": "code",
   "execution_count": 24,
   "id": "177e5ca0",
   "metadata": {},
   "outputs": [
    {
     "data": {
      "text/plain": [
       "ChatGoogleGenerativeAI(model='models/gemini-2.0-flash-001', google_api_key=SecretStr('**********'), client=<google.ai.generativelanguage_v1beta.services.generative_service.client.GenerativeServiceClient object at 0x7cb2c57ed3f0>, default_metadata=(), model_kwargs={})"
      ]
     },
     "execution_count": 24,
     "metadata": {},
     "output_type": "execute_result"
    }
   ],
   "source": [
    "llm"
   ]
  },
  {
   "cell_type": "code",
   "execution_count": 25,
   "id": "08e1bddc",
   "metadata": {},
   "outputs": [],
   "source": [
    "# client {HumanMessage}  -- > server {AIMessage}\n",
    "response = llm.invoke(\"What is LLM?\")"
   ]
  },
  {
   "cell_type": "code",
   "execution_count": 26,
   "id": "135551bc",
   "metadata": {},
   "outputs": [
    {
     "data": {
      "text/plain": [
       "AIMessage(content='LLM stands for **Large Language Model**.\\n\\nHere\\'s a breakdown of what that means:\\n\\n*   **Large:** These models are trained on massive datasets of text and code, often containing billions or even trillions of words. This vast amount of data allows them to learn complex patterns and relationships in language.\\n\\n*   **Language:** They are designed to understand, generate, and manipulate human language. This includes tasks like:\\n    *   Answering questions\\n    *   Writing different kinds of creative content (e.g., poems, code, scripts, musical pieces, email, letters, etc.)\\n    *   Summarizing text\\n    *   Translating languages\\n    *   Generating code\\n    *   Holding conversations\\n    *   And much more\\n\\n*   **Model:** In the context of machine learning, a model is a mathematical representation of a system or process. In this case, the LLM is a complex statistical model that learns the probabilities of word sequences and other linguistic patterns based on the data it was trained on.\\n\\n**In essence, a Large Language Model is a powerful artificial intelligence system that can process and generate human-like text due to its training on a massive amount of data.**\\n\\n**Key Characteristics of LLMs:**\\n\\n*   **Transformer Architecture:** Most modern LLMs are based on the Transformer architecture, which is particularly well-suited for processing sequential data like text. Transformers use self-attention mechanisms to weigh the importance of different words in a sentence when understanding its meaning.\\n\\n*   **Pre-training and Fine-tuning:** LLMs are typically pre-trained on a large, general-purpose dataset. This allows them to learn a broad understanding of language. Then, they can be fine-tuned on a smaller, more specific dataset to improve their performance on a particular task.\\n\\n*   **Emergent Abilities:** LLMs often exhibit \"emergent abilities,\" meaning they can perform tasks they were not explicitly trained for. This is thought to be due to the scale of the models and the vast amount of data they are trained on.\\n\\n**Examples of LLMs:**\\n\\n*   GPT-3, GPT-4 (OpenAI)\\n*   LaMDA (Google)\\n*   Bard (Google)\\n*   Llama 2 (Meta)\\n*   Claude (Anthropic)\\n\\n**Uses of LLMs:**\\n\\nLLMs are used in a wide range of applications, including:\\n\\n*   **Chatbots and virtual assistants:** Providing conversational interfaces for customer service, information retrieval, and other tasks.\\n*   **Content creation:** Generating articles, blog posts, marketing copy, and other types of content.\\n*   **Code generation:** Assisting developers with writing code.\\n*   **Machine translation:** Translating text from one language to another.\\n*   **Summarization:** Condensing long documents into shorter summaries.\\n*   **Question answering:** Answering questions based on a given text or knowledge base.\\n*   **Search engines:** Improving search results by understanding the meaning of queries.\\n\\nLLMs are a rapidly evolving field, and their capabilities are constantly expanding.  They are transforming the way we interact with computers and have the potential to revolutionize many industries.', additional_kwargs={}, response_metadata={'prompt_feedback': {'block_reason': 0, 'safety_ratings': []}, 'finish_reason': 'STOP', 'model_name': 'gemini-2.0-flash-001', 'safety_ratings': []}, id='run--4e55b665-4d6f-4ee3-bc31-3b57473be3e3-0', usage_metadata={'input_tokens': 5, 'output_tokens': 663, 'total_tokens': 668, 'input_token_details': {'cache_read': 0}})"
      ]
     },
     "execution_count": 26,
     "metadata": {},
     "output_type": "execute_result"
    }
   ],
   "source": [
    "response"
   ]
  },
  {
   "cell_type": "code",
   "execution_count": 27,
   "id": "9c4c348e",
   "metadata": {},
   "outputs": [
    {
     "name": "stdout",
     "output_type": "stream",
     "text": [
      "LLM stands for **Large Language Model**.\n",
      "\n",
      "Here's a breakdown of what that means:\n",
      "\n",
      "*   **Large:** These models are trained on massive datasets of text and code, often containing billions or even trillions of words. This vast amount of data allows them to learn complex patterns and relationships in language.\n",
      "\n",
      "*   **Language:** They are designed to understand, generate, and manipulate human language. This includes tasks like:\n",
      "    *   Answering questions\n",
      "    *   Writing different kinds of creative content (e.g., poems, code, scripts, musical pieces, email, letters, etc.)\n",
      "    *   Summarizing text\n",
      "    *   Translating languages\n",
      "    *   Generating code\n",
      "    *   Holding conversations\n",
      "    *   And much more\n",
      "\n",
      "*   **Model:** In the context of machine learning, a model is a mathematical representation of a system or process. In this case, the LLM is a complex statistical model that learns the probabilities of word sequences and other linguistic patterns based on the data it was trained on.\n",
      "\n",
      "**In essence, a Large Language Model is a powerful artificial intelligence system that can process and generate human-like text due to its training on a massive amount of data.**\n",
      "\n",
      "**Key Characteristics of LLMs:**\n",
      "\n",
      "*   **Transformer Architecture:** Most modern LLMs are based on the Transformer architecture, which is particularly well-suited for processing sequential data like text. Transformers use self-attention mechanisms to weigh the importance of different words in a sentence when understanding its meaning.\n",
      "\n",
      "*   **Pre-training and Fine-tuning:** LLMs are typically pre-trained on a large, general-purpose dataset. This allows them to learn a broad understanding of language. Then, they can be fine-tuned on a smaller, more specific dataset to improve their performance on a particular task.\n",
      "\n",
      "*   **Emergent Abilities:** LLMs often exhibit \"emergent abilities,\" meaning they can perform tasks they were not explicitly trained for. This is thought to be due to the scale of the models and the vast amount of data they are trained on.\n",
      "\n",
      "**Examples of LLMs:**\n",
      "\n",
      "*   GPT-3, GPT-4 (OpenAI)\n",
      "*   LaMDA (Google)\n",
      "*   Bard (Google)\n",
      "*   Llama 2 (Meta)\n",
      "*   Claude (Anthropic)\n",
      "\n",
      "**Uses of LLMs:**\n",
      "\n",
      "LLMs are used in a wide range of applications, including:\n",
      "\n",
      "*   **Chatbots and virtual assistants:** Providing conversational interfaces for customer service, information retrieval, and other tasks.\n",
      "*   **Content creation:** Generating articles, blog posts, marketing copy, and other types of content.\n",
      "*   **Code generation:** Assisting developers with writing code.\n",
      "*   **Machine translation:** Translating text from one language to another.\n",
      "*   **Summarization:** Condensing long documents into shorter summaries.\n",
      "*   **Question answering:** Answering questions based on a given text or knowledge base.\n",
      "*   **Search engines:** Improving search results by understanding the meaning of queries.\n",
      "\n",
      "LLMs are a rapidly evolving field, and their capabilities are constantly expanding.  They are transforming the way we interact with computers and have the potential to revolutionize many industries.\n"
     ]
    }
   ],
   "source": [
    "print(response.content)"
   ]
  },
  {
   "cell_type": "code",
   "execution_count": 28,
   "id": "48cb7e2e",
   "metadata": {},
   "outputs": [
    {
     "data": {
      "text/plain": [
       "<langchain_community.document_loaders.text.TextLoader at 0x7cb2c54673a0>"
      ]
     },
     "execution_count": 28,
     "metadata": {},
     "output_type": "execute_result"
    }
   ],
   "source": [
    "from langchain_community.document_loaders import TextLoader\n",
    "\n",
    "loader = TextLoader('sample.txt')\n",
    "loader"
   ]
  },
  {
   "cell_type": "code",
   "execution_count": 29,
   "id": "9155b722",
   "metadata": {},
   "outputs": [
    {
     "data": {
      "text/plain": [
       "[Document(metadata={'source': 'sample.txt'}, page_content='Generative Artificial Intelligence (Gen AI) is a transformative field within artificial intelligence that focuses on creating models capable of generating new content. This content can range from text, images, music, and even code, demonstrating the versatility and power of Gen AI systems. The rise of Gen AI has been fueled by advancements in deep learning, particularly with the development of large language models and generative adversarial networks (GANs).\\n\\nOne of the most prominent applications of Gen AI is in natural language processing. Language models like GPT-3 and its successors can generate human-like text, answer questions, summarize articles, and even write poetry. These models are trained on vast datasets, enabling them to understand context, grammar, and semantics at an impressive level. As a result, they are increasingly being used in chatbots, virtual assistants, and content creation tools.\\n\\nIn the realm of images, Gen AI has made significant strides with models like DALL-E and Stable Diffusion. These models can generate realistic images from textual descriptions, opening up new possibilities in art, design, and entertainment. Artists and designers can use these tools to quickly prototype ideas or create entirely new works of art that were previously unimaginable.\\n\\nMusic generation is another exciting area where Gen AI is making an impact. AI models can compose original pieces of music in various styles, assisting musicians in the creative process. This technology is also being used to generate background scores for videos, games, and advertisements, reducing the time and cost associated with traditional music production.\\n\\nGen AI is also revolutionizing the field of software development. Code generation tools powered by AI can assist developers by suggesting code snippets, detecting bugs, and even writing entire functions based on natural language descriptions. This not only increases productivity but also lowers the barrier to entry for new programmers.\\n\\nDespite its many benefits, Gen AI also raises important ethical and societal questions. The ability to generate realistic text, images, and videos can be misused to create deepfakes, spread misinformation, or infringe on intellectual property rights. Ensuring responsible use of Gen AI requires robust guidelines, transparency, and ongoing research into detection and mitigation techniques.\\n\\nAnother challenge is the potential for bias in Gen AI models. Since these models are trained on large datasets collected from the internet, they may inadvertently learn and reproduce biases present in the data. Addressing this issue requires careful curation of training data and the development of techniques to identify and reduce bias in AI outputs.\\n\\nThe democratization of Gen AI tools has made them accessible to a wider audience, fostering innovation across industries. Businesses are leveraging Gen AI to automate content creation, personalize marketing campaigns, and enhance customer experiences. In education, AI-generated content can provide personalized learning materials and tutoring, helping students learn more effectively.\\n\\nLooking ahead, the future of Gen AI is bright. Ongoing research is focused on improving the quality, controllability, and safety of generative models. As these models become more sophisticated, they will unlock new possibilities in creativity, productivity, and problem-solving. However, it is crucial to balance innovation with ethical considerations to ensure that Gen AI benefits society as a whole.\\n\\nIn conclusion, generative AI represents a significant leap forward in artificial intelligence. Its ability to create new content across various domains is transforming industries and reshaping the way we interact with technology. By harnessing the power of Gen AI responsibly, we can unlock its full potential and create a better future for all.')]"
      ]
     },
     "execution_count": 29,
     "metadata": {},
     "output_type": "execute_result"
    }
   ],
   "source": [
    "doc =loader.load()\n",
    "doc"
   ]
  },
  {
   "cell_type": "code",
   "execution_count": 30,
   "id": "5c5eb9e6",
   "metadata": {},
   "outputs": [
    {
     "data": {
      "text/plain": [
       "list"
      ]
     },
     "execution_count": 30,
     "metadata": {},
     "output_type": "execute_result"
    }
   ],
   "source": [
    "# [Document(metadata={},page_content)]\n",
    "type(doc)"
   ]
  },
  {
   "cell_type": "code",
   "execution_count": 31,
   "id": "0088afce",
   "metadata": {},
   "outputs": [
    {
     "data": {
      "text/plain": [
       "Document(metadata={'source': 'sample.txt'}, page_content='Generative Artificial Intelligence (Gen AI) is a transformative field within artificial intelligence that focuses on creating models capable of generating new content. This content can range from text, images, music, and even code, demonstrating the versatility and power of Gen AI systems. The rise of Gen AI has been fueled by advancements in deep learning, particularly with the development of large language models and generative adversarial networks (GANs).\\n\\nOne of the most prominent applications of Gen AI is in natural language processing. Language models like GPT-3 and its successors can generate human-like text, answer questions, summarize articles, and even write poetry. These models are trained on vast datasets, enabling them to understand context, grammar, and semantics at an impressive level. As a result, they are increasingly being used in chatbots, virtual assistants, and content creation tools.\\n\\nIn the realm of images, Gen AI has made significant strides with models like DALL-E and Stable Diffusion. These models can generate realistic images from textual descriptions, opening up new possibilities in art, design, and entertainment. Artists and designers can use these tools to quickly prototype ideas or create entirely new works of art that were previously unimaginable.\\n\\nMusic generation is another exciting area where Gen AI is making an impact. AI models can compose original pieces of music in various styles, assisting musicians in the creative process. This technology is also being used to generate background scores for videos, games, and advertisements, reducing the time and cost associated with traditional music production.\\n\\nGen AI is also revolutionizing the field of software development. Code generation tools powered by AI can assist developers by suggesting code snippets, detecting bugs, and even writing entire functions based on natural language descriptions. This not only increases productivity but also lowers the barrier to entry for new programmers.\\n\\nDespite its many benefits, Gen AI also raises important ethical and societal questions. The ability to generate realistic text, images, and videos can be misused to create deepfakes, spread misinformation, or infringe on intellectual property rights. Ensuring responsible use of Gen AI requires robust guidelines, transparency, and ongoing research into detection and mitigation techniques.\\n\\nAnother challenge is the potential for bias in Gen AI models. Since these models are trained on large datasets collected from the internet, they may inadvertently learn and reproduce biases present in the data. Addressing this issue requires careful curation of training data and the development of techniques to identify and reduce bias in AI outputs.\\n\\nThe democratization of Gen AI tools has made them accessible to a wider audience, fostering innovation across industries. Businesses are leveraging Gen AI to automate content creation, personalize marketing campaigns, and enhance customer experiences. In education, AI-generated content can provide personalized learning materials and tutoring, helping students learn more effectively.\\n\\nLooking ahead, the future of Gen AI is bright. Ongoing research is focused on improving the quality, controllability, and safety of generative models. As these models become more sophisticated, they will unlock new possibilities in creativity, productivity, and problem-solving. However, it is crucial to balance innovation with ethical considerations to ensure that Gen AI benefits society as a whole.\\n\\nIn conclusion, generative AI represents a significant leap forward in artificial intelligence. Its ability to create new content across various domains is transforming industries and reshaping the way we interact with technology. By harnessing the power of Gen AI responsibly, we can unlock its full potential and create a better future for all.')"
      ]
     },
     "execution_count": 31,
     "metadata": {},
     "output_type": "execute_result"
    }
   ],
   "source": [
    "doc[0]"
   ]
  },
  {
   "cell_type": "code",
   "execution_count": 32,
   "id": "b7a5fc1a",
   "metadata": {},
   "outputs": [
    {
     "data": {
      "text/plain": [
       "'Generative Artificial Intelligence (Gen AI) is a transformative field within artificial intelligence that focuses on creating models capable of generating new content. This content can range from text, images, music, and even code, demonstrating the versatility and power of Gen AI systems. The rise of Gen AI has been fueled by advancements in deep learning, particularly with the development of large language models and generative adversarial networks (GANs).\\n\\nOne of the most prominent applications of Gen AI is in natural language processing. Language models like GPT-3 and its successors can generate human-like text, answer questions, summarize articles, and even write poetry. These models are trained on vast datasets, enabling them to understand context, grammar, and semantics at an impressive level. As a result, they are increasingly being used in chatbots, virtual assistants, and content creation tools.\\n\\nIn the realm of images, Gen AI has made significant strides with models like DALL-E and Stable Diffusion. These models can generate realistic images from textual descriptions, opening up new possibilities in art, design, and entertainment. Artists and designers can use these tools to quickly prototype ideas or create entirely new works of art that were previously unimaginable.\\n\\nMusic generation is another exciting area where Gen AI is making an impact. AI models can compose original pieces of music in various styles, assisting musicians in the creative process. This technology is also being used to generate background scores for videos, games, and advertisements, reducing the time and cost associated with traditional music production.\\n\\nGen AI is also revolutionizing the field of software development. Code generation tools powered by AI can assist developers by suggesting code snippets, detecting bugs, and even writing entire functions based on natural language descriptions. This not only increases productivity but also lowers the barrier to entry for new programmers.\\n\\nDespite its many benefits, Gen AI also raises important ethical and societal questions. The ability to generate realistic text, images, and videos can be misused to create deepfakes, spread misinformation, or infringe on intellectual property rights. Ensuring responsible use of Gen AI requires robust guidelines, transparency, and ongoing research into detection and mitigation techniques.\\n\\nAnother challenge is the potential for bias in Gen AI models. Since these models are trained on large datasets collected from the internet, they may inadvertently learn and reproduce biases present in the data. Addressing this issue requires careful curation of training data and the development of techniques to identify and reduce bias in AI outputs.\\n\\nThe democratization of Gen AI tools has made them accessible to a wider audience, fostering innovation across industries. Businesses are leveraging Gen AI to automate content creation, personalize marketing campaigns, and enhance customer experiences. In education, AI-generated content can provide personalized learning materials and tutoring, helping students learn more effectively.\\n\\nLooking ahead, the future of Gen AI is bright. Ongoing research is focused on improving the quality, controllability, and safety of generative models. As these models become more sophisticated, they will unlock new possibilities in creativity, productivity, and problem-solving. However, it is crucial to balance innovation with ethical considerations to ensure that Gen AI benefits society as a whole.\\n\\nIn conclusion, generative AI represents a significant leap forward in artificial intelligence. Its ability to create new content across various domains is transforming industries and reshaping the way we interact with technology. By harnessing the power of Gen AI responsibly, we can unlock its full potential and create a better future for all.'"
      ]
     },
     "execution_count": 32,
     "metadata": {},
     "output_type": "execute_result"
    }
   ],
   "source": [
    "content = doc[0].page_content\n",
    "content"
   ]
  },
  {
   "cell_type": "markdown",
   "id": "81fae9dc",
   "metadata": {},
   "source": [
    "* Document Load ---> Split ----> Embedding ---> similarity Search ----> {context} ---> LLM ----> {response} ----> Output Parser "
   ]
  },
  {
   "cell_type": "code",
   "execution_count": null,
   "id": "885a4235",
   "metadata": {},
   "outputs": [],
   "source": []
  },
  {
   "cell_type": "code",
   "execution_count": 33,
   "id": "418a4944",
   "metadata": {},
   "outputs": [],
   "source": [
    "from langchain_text_splitters import RecursiveCharacterTextSplitter\n",
    "\n",
    "splitter = RecursiveCharacterTextSplitter(\n",
    "    chunk_size = 500,\n",
    "    chunk_overlap = 200\n",
    ")"
   ]
  },
  {
   "cell_type": "code",
   "execution_count": 34,
   "id": "bdb22249",
   "metadata": {},
   "outputs": [
    {
     "data": {
      "text/plain": [
       "<langchain_text_splitters.character.RecursiveCharacterTextSplitter at 0x7cb2c57edc90>"
      ]
     },
     "execution_count": 34,
     "metadata": {},
     "output_type": "execute_result"
    }
   ],
   "source": [
    "splitter"
   ]
  },
  {
   "cell_type": "code",
   "execution_count": 35,
   "id": "021d6f48",
   "metadata": {},
   "outputs": [],
   "source": [
    "split_docs =splitter.split_documents(documents=doc)"
   ]
  },
  {
   "cell_type": "code",
   "execution_count": 36,
   "id": "ac2d8492",
   "metadata": {},
   "outputs": [
    {
     "data": {
      "text/plain": [
       "[Document(metadata={'source': 'sample.txt'}, page_content='Generative Artificial Intelligence (Gen AI) is a transformative field within artificial intelligence that focuses on creating models capable of generating new content. This content can range from text, images, music, and even code, demonstrating the versatility and power of Gen AI systems. The rise of Gen AI has been fueled by advancements in deep learning, particularly with the development of large language models and generative adversarial networks (GANs).'),\n",
       " Document(metadata={'source': 'sample.txt'}, page_content='One of the most prominent applications of Gen AI is in natural language processing. Language models like GPT-3 and its successors can generate human-like text, answer questions, summarize articles, and even write poetry. These models are trained on vast datasets, enabling them to understand context, grammar, and semantics at an impressive level. As a result, they are increasingly being used in chatbots, virtual assistants, and content creation tools.'),\n",
       " Document(metadata={'source': 'sample.txt'}, page_content='In the realm of images, Gen AI has made significant strides with models like DALL-E and Stable Diffusion. These models can generate realistic images from textual descriptions, opening up new possibilities in art, design, and entertainment. Artists and designers can use these tools to quickly prototype ideas or create entirely new works of art that were previously unimaginable.'),\n",
       " Document(metadata={'source': 'sample.txt'}, page_content='Music generation is another exciting area where Gen AI is making an impact. AI models can compose original pieces of music in various styles, assisting musicians in the creative process. This technology is also being used to generate background scores for videos, games, and advertisements, reducing the time and cost associated with traditional music production.'),\n",
       " Document(metadata={'source': 'sample.txt'}, page_content='Gen AI is also revolutionizing the field of software development. Code generation tools powered by AI can assist developers by suggesting code snippets, detecting bugs, and even writing entire functions based on natural language descriptions. This not only increases productivity but also lowers the barrier to entry for new programmers.'),\n",
       " Document(metadata={'source': 'sample.txt'}, page_content='Despite its many benefits, Gen AI also raises important ethical and societal questions. The ability to generate realistic text, images, and videos can be misused to create deepfakes, spread misinformation, or infringe on intellectual property rights. Ensuring responsible use of Gen AI requires robust guidelines, transparency, and ongoing research into detection and mitigation techniques.'),\n",
       " Document(metadata={'source': 'sample.txt'}, page_content='Another challenge is the potential for bias in Gen AI models. Since these models are trained on large datasets collected from the internet, they may inadvertently learn and reproduce biases present in the data. Addressing this issue requires careful curation of training data and the development of techniques to identify and reduce bias in AI outputs.'),\n",
       " Document(metadata={'source': 'sample.txt'}, page_content='The democratization of Gen AI tools has made them accessible to a wider audience, fostering innovation across industries. Businesses are leveraging Gen AI to automate content creation, personalize marketing campaigns, and enhance customer experiences. In education, AI-generated content can provide personalized learning materials and tutoring, helping students learn more effectively.'),\n",
       " Document(metadata={'source': 'sample.txt'}, page_content='Looking ahead, the future of Gen AI is bright. Ongoing research is focused on improving the quality, controllability, and safety of generative models. As these models become more sophisticated, they will unlock new possibilities in creativity, productivity, and problem-solving. However, it is crucial to balance innovation with ethical considerations to ensure that Gen AI benefits society as a whole.'),\n",
       " Document(metadata={'source': 'sample.txt'}, page_content='In conclusion, generative AI represents a significant leap forward in artificial intelligence. Its ability to create new content across various domains is transforming industries and reshaping the way we interact with technology. By harnessing the power of Gen AI responsibly, we can unlock its full potential and create a better future for all.')]"
      ]
     },
     "execution_count": 36,
     "metadata": {},
     "output_type": "execute_result"
    }
   ],
   "source": [
    "split_docs"
   ]
  },
  {
   "cell_type": "code",
   "execution_count": 37,
   "id": "1627f66d",
   "metadata": {},
   "outputs": [
    {
     "data": {
      "text/plain": [
       "10"
      ]
     },
     "execution_count": 37,
     "metadata": {},
     "output_type": "execute_result"
    }
   ],
   "source": [
    "len(split_docs)"
   ]
  },
  {
   "cell_type": "code",
   "execution_count": 38,
   "id": "5693961a",
   "metadata": {},
   "outputs": [],
   "source": [
    "from langchain_ollama.embeddings import OllamaEmbeddings\n",
    "\n",
    "\n",
    "embedder = OllamaEmbeddings(\n",
    "    model = \"mistral\"\n",
    ")"
   ]
  },
  {
   "cell_type": "code",
   "execution_count": 39,
   "id": "7bac46d3",
   "metadata": {},
   "outputs": [],
   "source": [
    "from langchain_community.vectorstores import FAISS\n",
    " \n",
    "vector_db = FAISS.from_documents(\n",
    "    documents=split_docs,\n",
    "    embedding=embedder\n",
    ")"
   ]
  },
  {
   "cell_type": "code",
   "execution_count": 40,
   "id": "9725aad1",
   "metadata": {},
   "outputs": [
    {
     "data": {
      "text/plain": [
       "<langchain_community.vectorstores.faiss.FAISS at 0x7cb2b5d65480>"
      ]
     },
     "execution_count": 40,
     "metadata": {},
     "output_type": "execute_result"
    }
   ],
   "source": [
    "vector_db"
   ]
  },
  {
   "cell_type": "code",
   "execution_count": 41,
   "id": "b8f3ccbe",
   "metadata": {},
   "outputs": [],
   "source": [
    "vector_db.save_local(\"vector_db\")"
   ]
  },
  {
   "cell_type": "code",
   "execution_count": 44,
   "id": "d0c51a2a",
   "metadata": {},
   "outputs": [],
   "source": [
    "loaded_db = FAISS.load_local(\"vector_db\",embeddings=embedder,allow_dangerous_deserialization=True)"
   ]
  },
  {
   "cell_type": "code",
   "execution_count": 45,
   "id": "86cdd64b",
   "metadata": {},
   "outputs": [
    {
     "data": {
      "text/plain": [
       "<langchain_community.vectorstores.faiss.FAISS at 0x7cb2b5d66500>"
      ]
     },
     "execution_count": 45,
     "metadata": {},
     "output_type": "execute_result"
    }
   ],
   "source": [
    "loaded_db"
   ]
  },
  {
   "cell_type": "code",
   "execution_count": 50,
   "id": "935bc27e",
   "metadata": {},
   "outputs": [],
   "source": [
    "sample = \"what is gen ai?\"\n",
    "\n",
    "res = loaded_db.similarity_search(query=sample,k=5)\n"
   ]
  },
  {
   "cell_type": "code",
   "execution_count": 51,
   "id": "65681632",
   "metadata": {},
   "outputs": [
    {
     "data": {
      "text/plain": [
       "[Document(id='5e9e5a5c-2376-4772-93b3-15eee184e229', metadata={'source': 'sample.txt'}, page_content='One of the most prominent applications of Gen AI is in natural language processing. Language models like GPT-3 and its successors can generate human-like text, answer questions, summarize articles, and even write poetry. These models are trained on vast datasets, enabling them to understand context, grammar, and semantics at an impressive level. As a result, they are increasingly being used in chatbots, virtual assistants, and content creation tools.'),\n",
       " Document(id='9146cc71-b0ef-4a57-8441-e3f73b9d1818', metadata={'source': 'sample.txt'}, page_content='Another challenge is the potential for bias in Gen AI models. Since these models are trained on large datasets collected from the internet, they may inadvertently learn and reproduce biases present in the data. Addressing this issue requires careful curation of training data and the development of techniques to identify and reduce bias in AI outputs.'),\n",
       " Document(id='9e070211-7098-41b4-8e93-818576470013', metadata={'source': 'sample.txt'}, page_content='Gen AI is also revolutionizing the field of software development. Code generation tools powered by AI can assist developers by suggesting code snippets, detecting bugs, and even writing entire functions based on natural language descriptions. This not only increases productivity but also lowers the barrier to entry for new programmers.'),\n",
       " Document(id='b2575fed-3d28-4412-8ea8-62b56c8ac607', metadata={'source': 'sample.txt'}, page_content='In conclusion, generative AI represents a significant leap forward in artificial intelligence. Its ability to create new content across various domains is transforming industries and reshaping the way we interact with technology. By harnessing the power of Gen AI responsibly, we can unlock its full potential and create a better future for all.'),\n",
       " Document(id='078c68dd-8b34-4bdf-a169-633e00312839', metadata={'source': 'sample.txt'}, page_content='Looking ahead, the future of Gen AI is bright. Ongoing research is focused on improving the quality, controllability, and safety of generative models. As these models become more sophisticated, they will unlock new possibilities in creativity, productivity, and problem-solving. However, it is crucial to balance innovation with ethical considerations to ensure that Gen AI benefits society as a whole.')]"
      ]
     },
     "execution_count": 51,
     "metadata": {},
     "output_type": "execute_result"
    }
   ],
   "source": [
    "res"
   ]
  },
  {
   "cell_type": "code",
   "execution_count": 52,
   "id": "4d4a9a84",
   "metadata": {},
   "outputs": [],
   "source": [
    "context = [doc.page_content for doc in  res]"
   ]
  },
  {
   "cell_type": "code",
   "execution_count": 53,
   "id": "c3819581",
   "metadata": {},
   "outputs": [
    {
     "data": {
      "text/plain": [
       "['One of the most prominent applications of Gen AI is in natural language processing. Language models like GPT-3 and its successors can generate human-like text, answer questions, summarize articles, and even write poetry. These models are trained on vast datasets, enabling them to understand context, grammar, and semantics at an impressive level. As a result, they are increasingly being used in chatbots, virtual assistants, and content creation tools.',\n",
       " 'Another challenge is the potential for bias in Gen AI models. Since these models are trained on large datasets collected from the internet, they may inadvertently learn and reproduce biases present in the data. Addressing this issue requires careful curation of training data and the development of techniques to identify and reduce bias in AI outputs.',\n",
       " 'Gen AI is also revolutionizing the field of software development. Code generation tools powered by AI can assist developers by suggesting code snippets, detecting bugs, and even writing entire functions based on natural language descriptions. This not only increases productivity but also lowers the barrier to entry for new programmers.',\n",
       " 'In conclusion, generative AI represents a significant leap forward in artificial intelligence. Its ability to create new content across various domains is transforming industries and reshaping the way we interact with technology. By harnessing the power of Gen AI responsibly, we can unlock its full potential and create a better future for all.',\n",
       " 'Looking ahead, the future of Gen AI is bright. Ongoing research is focused on improving the quality, controllability, and safety of generative models. As these models become more sophisticated, they will unlock new possibilities in creativity, productivity, and problem-solving. However, it is crucial to balance innovation with ethical considerations to ensure that Gen AI benefits society as a whole.']"
      ]
     },
     "execution_count": 53,
     "metadata": {},
     "output_type": "execute_result"
    }
   ],
   "source": [
    "context \n"
   ]
  },
  {
   "cell_type": "code",
   "execution_count": 72,
   "id": "965109e0",
   "metadata": {},
   "outputs": [],
   "source": [
    "from langchain_core.prompts import ChatPromptTemplate\n",
    "\n",
    "prompt = ChatPromptTemplate.from_messages([\n",
    "    (\"system\", \"You are an AI assistant. Answer the user's question based only on the provided context. If the answer is not in the context, reply with 'I don't know.' The output should be in JSON format: {{\\\"question\\\": question, \\\"llm_response\\\": response}}\"),\n",
    "    (\"user\", \"Context:\\n{context}\\n\\nQuestion:\\n{question}\")\n",
    "])"
   ]
  },
  {
   "cell_type": "code",
   "execution_count": 77,
   "id": "34339872",
   "metadata": {},
   "outputs": [],
   "source": [
    "from langchain_core.output_parsers import JsonOutputParser\n",
    "parser = JsonOutputParser()"
   ]
  },
  {
   "cell_type": "code",
   "execution_count": 78,
   "id": "9545b012",
   "metadata": {},
   "outputs": [],
   "source": [
    "chain = prompt | llm | parser"
   ]
  },
  {
   "cell_type": "code",
   "execution_count": 79,
   "id": "654da96e",
   "metadata": {},
   "outputs": [
    {
     "data": {
      "text/plain": [
       "ChatPromptTemplate(input_variables=['context', 'question'], input_types={}, partial_variables={}, messages=[SystemMessagePromptTemplate(prompt=PromptTemplate(input_variables=[], input_types={}, partial_variables={}, template='You are an AI assistant. Answer the user\\'s question based only on the provided context. If the answer is not in the context, reply with \\'I don\\'t know.\\' The output should be in JSON format: {{\"question\": question, \"llm_response\": response}}'), additional_kwargs={}), HumanMessagePromptTemplate(prompt=PromptTemplate(input_variables=['context', 'question'], input_types={}, partial_variables={}, template='Context:\\n{context}\\n\\nQuestion:\\n{question}'), additional_kwargs={})])\n",
       "| ChatGoogleGenerativeAI(model='models/gemini-2.0-flash-001', google_api_key=SecretStr('**********'), client=<google.ai.generativelanguage_v1beta.services.generative_service.client.GenerativeServiceClient object at 0x7cb2c57ed3f0>, default_metadata=(), model_kwargs={})\n",
       "| JsonOutputParser()"
      ]
     },
     "execution_count": 79,
     "metadata": {},
     "output_type": "execute_result"
    }
   ],
   "source": [
    "chain"
   ]
  },
  {
   "cell_type": "code",
   "execution_count": 80,
   "id": "c2540c2e",
   "metadata": {},
   "outputs": [
    {
     "name": "stdout",
     "output_type": "stream",
     "text": [
      "['One of the most prominent applications of Gen AI is in natural language processing. Language models like GPT-3 and its successors can generate human-like text, answer questions, summarize articles, and even write poetry. These models are trained on vast datasets, enabling them to understand context, grammar, and semantics at an impressive level. As a result, they are increasingly being used in chatbots, virtual assistants, and content creation tools.', 'Another challenge is the potential for bias in Gen AI models. Since these models are trained on large datasets collected from the internet, they may inadvertently learn and reproduce biases present in the data. Addressing this issue requires careful curation of training data and the development of techniques to identify and reduce bias in AI outputs.', 'Gen AI is also revolutionizing the field of software development. Code generation tools powered by AI can assist developers by suggesting code snippets, detecting bugs, and even writing entire functions based on natural language descriptions. This not only increases productivity but also lowers the barrier to entry for new programmers.', 'In conclusion, generative AI represents a significant leap forward in artificial intelligence. Its ability to create new content across various domains is transforming industries and reshaping the way we interact with technology. By harnessing the power of Gen AI responsibly, we can unlock its full potential and create a better future for all.', 'Looking ahead, the future of Gen AI is bright. Ongoing research is focused on improving the quality, controllability, and safety of generative models. As these models become more sophisticated, they will unlock new possibilities in creativity, productivity, and problem-solving. However, it is crucial to balance innovation with ethical considerations to ensure that Gen AI benefits society as a whole.']\n"
     ]
    }
   ],
   "source": [
    "print(context)"
   ]
  },
  {
   "cell_type": "code",
   "execution_count": 82,
   "id": "0ac6b19f",
   "metadata": {},
   "outputs": [
    {
     "data": {
      "text/plain": [
       "{'question': 'what is GenAI?',\n",
       " 'llm_response': 'generative AI represents a significant leap forward in artificial intelligence. Its ability to create new content across various domains is transforming industries and reshaping the way we interact with technology.'}"
      ]
     },
     "execution_count": 82,
     "metadata": {},
     "output_type": "execute_result"
    }
   ],
   "source": [
    "response = chain.invoke({\n",
    "    \"context\" : context,\n",
    "    \"question\":\"what is GenAI?\"\n",
    "})\n",
    "\n",
    "response"
   ]
  },
  {
   "cell_type": "code",
   "execution_count": null,
   "id": "64a0f42d",
   "metadata": {},
   "outputs": [],
   "source": []
  }
 ],
 "metadata": {
  "kernelspec": {
   "display_name": ".venv (3.10.14)",
   "language": "python",
   "name": "python3"
  },
  "language_info": {
   "codemirror_mode": {
    "name": "ipython",
    "version": 3
   },
   "file_extension": ".py",
   "mimetype": "text/x-python",
   "name": "python",
   "nbconvert_exporter": "python",
   "pygments_lexer": "ipython3",
   "version": "3.10.14"
  }
 },
 "nbformat": 4,
 "nbformat_minor": 5
}
